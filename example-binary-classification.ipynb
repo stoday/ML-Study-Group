{
 "cells": [
  {
   "cell_type": "markdown",
   "metadata": {},
   "source": [
    "# Classifying Movie Reviews"
   ]
  },
  {
   "cell_type": "code",
   "execution_count": 33,
   "metadata": {},
   "outputs": [],
   "source": [
    "from keras import models\n",
    "from keras import layers\n",
    "import numpy as np"
   ]
  },
  {
   "cell_type": "code",
   "execution_count": 34,
   "metadata": {},
   "outputs": [],
   "source": [
    "from keras.datasets import imdb\n",
    "(x_train, y_train), (x_test, y_test) = imdb.load_data(num_words=10000)"
   ]
  },
  {
   "cell_type": "code",
   "execution_count": 35,
   "metadata": {},
   "outputs": [
    {
     "data": {
      "text/plain": [
       "1294"
      ]
     },
     "execution_count": 35,
     "metadata": {},
     "output_type": "execute_result"
    }
   ],
   "source": [
    "word_to_index = imdb.get_word_index()\n",
    "word_to_index.get('unbelievable')"
   ]
  },
  {
   "cell_type": "code",
   "execution_count": 36,
   "metadata": {},
   "outputs": [
    {
     "data": {
      "text/plain": [
       "88584"
      ]
     },
     "metadata": {},
     "output_type": "display_data"
    }
   ],
   "source": [
    "index_to_word = dict([(values, keys) for (keys, values) in word_to_index.items()])\n",
    "display(len(index_to_word))"
   ]
  },
  {
   "cell_type": "code",
   "execution_count": 37,
   "metadata": {},
   "outputs": [
    {
     "data": {
      "text/plain": [
       "\"_ this film was just brilliant casting location scenery story direction everyone's really suited the part they played and you could just imagine being there robert _ is an amazing actor and now the same being director _ father came from the same scottish island as myself so i loved the fact there was a real connection with this film the witty remarks throughout the film were great it was just brilliant so much that i bought the film as soon as it was released for _ and would recommend it to everyone to watch and the fly fishing was amazing really cried at the end it was so sad and you know what they say if you cry at a film it must have been good and this definitely was also _ to the two little boy's that played the _ of norman and paul they were just brilliant children are often left out of the _ list i think because the stars that play them all grown up are such a big profile for the whole film but these children are amazing and should be praised for what they have done don't you think the whole story was so lovely because it was true and was someone's life after all that was shared with us all\""
      ]
     },
     "execution_count": 37,
     "metadata": {},
     "output_type": "execute_result"
    }
   ],
   "source": [
    "# [index_to_word.get(i-3, '?') for i in x_train[0]]\n",
    "' '.join([index_to_word.get(i-3, '_') for i in x_train[0]])"
   ]
  },
  {
   "cell_type": "code",
   "execution_count": 38,
   "metadata": {},
   "outputs": [
    {
     "data": {
      "text/plain": [
       "array([0., 1., 1., ..., 0., 0., 0.])"
      ]
     },
     "metadata": {},
     "output_type": "display_data"
    },
    {
     "data": {
      "text/plain": [
       "1"
      ]
     },
     "metadata": {},
     "output_type": "display_data"
    },
    {
     "data": {
      "text/plain": [
       "array([0., 1., 1., ..., 0., 0., 0.])"
      ]
     },
     "metadata": {},
     "output_type": "display_data"
    },
    {
     "data": {
      "text/plain": [
       "0"
      ]
     },
     "metadata": {},
     "output_type": "display_data"
    }
   ],
   "source": [
    "x_train_oh = np.zeros((len(x_train), 10000))\n",
    "for i in np.arange(x_train.shape[0]):\n",
    "    x_train_oh[i, np.array(x_train[i])] = 1.\n",
    "    \n",
    "display(x_train_oh[0])\n",
    "display(y_train[0])\n",
    "\n",
    "x_test_oh = np.zeros((len(x_test), 10000))\n",
    "for i in np.arange(x_test.shape[0]):\n",
    "    x_test_oh[i, np.array(x_test[i])] = 1.\n",
    "    \n",
    "display(x_test_oh[0])\n",
    "display(y_test[0])"
   ]
  },
  {
   "cell_type": "code",
   "execution_count": 47,
   "metadata": {},
   "outputs": [],
   "source": [
    "model = models.Sequential()\n",
    "model.add(layers.Dense(units=16, activation='relu', input_shape=(10000, )))\n",
    "model.add(layers.Dense(units=16, activation='relu'))\n",
    "model.add(layers.Dense(units=1, activation='sigmoid'))"
   ]
  },
  {
   "cell_type": "code",
   "execution_count": 48,
   "metadata": {},
   "outputs": [],
   "source": [
    "model.compile(optimizer='sgd', loss='binary_crossentropy', metrics=['accuracy'])"
   ]
  },
  {
   "cell_type": "code",
   "execution_count": 49,
   "metadata": {},
   "outputs": [
    {
     "name": "stdout",
     "output_type": "stream",
     "text": [
      "Train on 25000 samples, validate on 25000 samples\n",
      "Epoch 1/20\n",
      "25000/25000 [==============================] - 2s 87us/step - loss: 0.6858 - acc: 0.5638 - val_loss: 0.6721 - val_acc: 0.6390\n",
      "Epoch 2/20\n",
      "25000/25000 [==============================] - 2s 78us/step - loss: 0.6431 - acc: 0.6961 - val_loss: 0.6101 - val_acc: 0.7359\n",
      "Epoch 3/20\n",
      "25000/25000 [==============================] - 2s 82us/step - loss: 0.5717 - acc: 0.7760 - val_loss: 0.5401 - val_acc: 0.7910\n",
      "Epoch 4/20\n",
      "25000/25000 [==============================] - 2s 82us/step - loss: 0.5043 - acc: 0.8094 - val_loss: 0.4804 - val_acc: 0.8157\n",
      "Epoch 5/20\n",
      "25000/25000 [==============================] - 2s 82us/step - loss: 0.4475 - acc: 0.8302 - val_loss: 0.4314 - val_acc: 0.8294\n",
      "Epoch 6/20\n",
      "25000/25000 [==============================] - 2s 82us/step - loss: 0.4023 - acc: 0.8447 - val_loss: 0.3973 - val_acc: 0.8396\n",
      "Epoch 7/20\n",
      "25000/25000 [==============================] - 2s 79us/step - loss: 0.3705 - acc: 0.8541 - val_loss: 0.3740 - val_acc: 0.8493\n",
      "Epoch 8/20\n",
      "25000/25000 [==============================] - 2s 81us/step - loss: 0.3475 - acc: 0.8629 - val_loss: 0.3566 - val_acc: 0.8545\n",
      "Epoch 9/20\n",
      "25000/25000 [==============================] - 2s 80us/step - loss: 0.3294 - acc: 0.8690 - val_loss: 0.3438 - val_acc: 0.8602\n",
      "Epoch 10/20\n",
      "25000/25000 [==============================] - 2s 83us/step - loss: 0.3148 - acc: 0.8750 - val_loss: 0.3338 - val_acc: 0.8620\n",
      "Epoch 11/20\n",
      "25000/25000 [==============================] - 2s 82us/step - loss: 0.3023 - acc: 0.8794 - val_loss: 0.3260 - val_acc: 0.8660\n",
      "Epoch 12/20\n",
      "25000/25000 [==============================] - 2s 83us/step - loss: 0.2913 - acc: 0.8852 - val_loss: 0.3221 - val_acc: 0.8675\n",
      "Epoch 13/20\n",
      "25000/25000 [==============================] - 2s 82us/step - loss: 0.2821 - acc: 0.8889 - val_loss: 0.3125 - val_acc: 0.8708\n",
      "Epoch 14/20\n",
      "25000/25000 [==============================] - 2s 81us/step - loss: 0.2730 - acc: 0.8930 - val_loss: 0.3076 - val_acc: 0.8736\n",
      "Epoch 15/20\n",
      "25000/25000 [==============================] - 2s 81us/step - loss: 0.2659 - acc: 0.8961 - val_loss: 0.3039 - val_acc: 0.8754\n",
      "Epoch 16/20\n",
      "25000/25000 [==============================] - 2s 81us/step - loss: 0.2586 - acc: 0.9002 - val_loss: 0.3007 - val_acc: 0.8762\n",
      "Epoch 17/20\n",
      "25000/25000 [==============================] - 2s 78us/step - loss: 0.2529 - acc: 0.9021 - val_loss: 0.2980 - val_acc: 0.8769\n",
      "Epoch 18/20\n",
      "25000/25000 [==============================] - 2s 82us/step - loss: 0.2466 - acc: 0.9045 - val_loss: 0.2960 - val_acc: 0.8787\n",
      "Epoch 19/20\n",
      "25000/25000 [==============================] - 2s 80us/step - loss: 0.2410 - acc: 0.9069 - val_loss: 0.2938 - val_acc: 0.8796\n",
      "Epoch 20/20\n",
      "25000/25000 [==============================] - 2s 81us/step - loss: 0.2355 - acc: 0.9100 - val_loss: 0.2920 - val_acc: 0.8806\n"
     ]
    },
    {
     "data": {
      "text/plain": [
       "<keras.callbacks.History at 0x7f4c2ad67860>"
      ]
     },
     "execution_count": 49,
     "metadata": {},
     "output_type": "execute_result"
    }
   ],
   "source": [
    "model.fit(x=x_train_oh, y=y_train, \n",
    "          epochs=20, batch_size=256, \n",
    "          validation_data=(x_test_oh, y_test))"
   ]
  },
  {
   "cell_type": "code",
   "execution_count": 60,
   "metadata": {},
   "outputs": [
    {
     "data": {
      "text/plain": [
       "array([[0.86891466]], dtype=float32)"
      ]
     },
     "execution_count": 60,
     "metadata": {},
     "output_type": "execute_result"
    }
   ],
   "source": [
    "target_good_input = \"This anime is simply amazing! The way it is animated, the soundtrack, the characters, the story, the thrill and the suspense. All in one action-packed anime. One of the best so far. As it has only 9 episodes as of now ... many critics say that it is way too early to rate an anime. But, according to me, this is pure class. The soundtrack's tempo varies according to the situation and this makes it more exciting. The ending of the episode is something that NO one will look forward to as NO one will want it to end. A must watch for every anime lover and of course the manga is available as well. Although a bit gory, the epicness makes up for it! You know those animes that catch your eye from the first episode, this is one of them.\"\n",
    "target_good_input = target_good_input.replace('!', '')\n",
    "target_good_input = target_good_input.replace('.', '')\n",
    "target_good_input = target_good_input.replace(',', '')\n",
    "target_good_input = target_good_input.replace(';', '')\n",
    "target_good_input = target_good_input.split(' ')\n",
    "target_good_input = [word_to_index.get(x, '_') for x in target_good_input]\n",
    "# display(x_target)\n",
    "target_good_input = [x for x in target_good_input if (x != '_')]\n",
    "target_good_input = [x for x in target_good_input if (int(x) < 10000)]\n",
    "# display(x_target)\n",
    "x_good_target = np.zeros((1, 10000))\n",
    "x_good_target[0, target_good_input] = 1.\n",
    "\n",
    "model.predict(x_good_target)"
   ]
  },
  {
   "cell_type": "code",
   "execution_count": 61,
   "metadata": {},
   "outputs": [
    {
     "data": {
      "text/plain": [
       "array([[0.5187677]], dtype=float32)"
      ]
     },
     "execution_count": 61,
     "metadata": {},
     "output_type": "execute_result"
    }
   ],
   "source": [
    "target_bad_input  = \"I watched this anime a couple of days ago and i have to say this is an embarrassment to Japanese people. Being Japanese myself i though that I would enjoy it, as I have watched many anime's before this, unfortunately I don't think I will ever watch an anime again after this because it is absolutely rubbish and made me feel sick. This has to be the worst show that has ever been aired on TV. The voice acting is absolutely awful, the animator needs drawing lessons and the writer....... well he needs to learn what a good story is. Many would say that the rating I have given this TV show is a bit to harsh, but believe me this is the most overrated TV show the universe has ever come across, In my opinion this doesn't even deserve 1 star. Seriously, if you've been considering to watch this TV show don't it's bad. P.S. Pikachu and Cubone need to have more screen time, their probably the only good\"\n",
    "target_bad_input = target_bad_input.replace('!', '')\n",
    "target_bad_input = target_bad_input.replace('.', '')\n",
    "target_bad_input = target_bad_input.replace(',', '')\n",
    "target_bad_input = target_bad_input.replace(';', '')\n",
    "target_bad_input = target_bad_input.split(' ')\n",
    "\n",
    "target_bad_input = [word_to_index.get(x, '_') for x in target_bad_input]\n",
    "# display(x_target)\n",
    "target_bad_input = [x for x in target_bad_input if (x != '_')]\n",
    "target_bad_input = [x for x in target_bad_input if (int(x) < 10000)]\n",
    "# display(x_target)\n",
    "x_bad_input = np.zeros((1, 10000))\n",
    "x_bad_input[0, x_bad_input.astype(int)] = 1.\n",
    "\n",
    "model.predict(x_bad_input)"
   ]
  }
 ],
 "metadata": {
  "kernelspec": {
   "display_name": "Python 3",
   "language": "python",
   "name": "python3"
  },
  "language_info": {
   "codemirror_mode": {
    "name": "ipython",
    "version": 3
   },
   "file_extension": ".py",
   "mimetype": "text/x-python",
   "name": "python",
   "nbconvert_exporter": "python",
   "pygments_lexer": "ipython3",
   "version": "3.6.8"
  }
 },
 "nbformat": 4,
 "nbformat_minor": 4
}
