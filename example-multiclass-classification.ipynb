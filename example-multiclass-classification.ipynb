{
 "cells": [
  {
   "cell_type": "markdown",
   "metadata": {},
   "source": [
    "# Classifying Reuters Newswires"
   ]
  },
  {
   "cell_type": "code",
   "execution_count": 7,
   "metadata": {},
   "outputs": [],
   "source": [
    "from keras import models\n",
    "from keras import layers\n",
    "from keras.datasets import reuters\n",
    "import numpy as np"
   ]
  },
  {
   "cell_type": "code",
   "execution_count": 25,
   "metadata": {},
   "outputs": [
    {
     "name": "stdout",
     "output_type": "stream",
     "text": [
      "# of Training Samples: 8982\n",
      "# of Test Samples: 2246\n"
     ]
    }
   ],
   "source": [
    "(x_train, y_train), (x_test, y_test) = reuters.load_data(num_words=10000, test_split=0.2)\n",
    "word_index = reuters.get_word_index(path=\"reuters_word_index.json\")\n",
    "\n",
    "print('# of Training Samples: {}'.format(len(x_train)))\n",
    "print('# of Test Samples: {}'.format(len(x_test)))"
   ]
  },
  {
   "cell_type": "markdown",
   "metadata": {},
   "source": [
    "News Topics:\n",
    "```\n",
    "\"reuters\":\n",
    "  ['cocoa','grain','veg-oil','earn','acq','wheat','copper','housing','money-supply',\n",
    "   'coffee','sugar','trade','reserves','ship','cotton','carcass','crude','nat-gas',\n",
    "   'cpi','money-fx','interest','gnp','meal-feed','alum','oilseed','gold','tin',\n",
    "   'strategic-metal','livestock','retail','ipi','iron-steel','rubber','heat','jobs',\n",
    "   'lei','bop','zinc','orange','pet-chem','dlr','gas','silver','wpi','hog','lead'],\n",
    "```"
   ]
  },
  {
   "cell_type": "code",
   "execution_count": 15,
   "metadata": {},
   "outputs": [
    {
     "name": "stdout",
     "output_type": "stream",
     "text": [
      "# of Classes: 46\n",
      "the of of mln loss for plc said at only ended said commonwealth could 1 traders now april 0 a after said from 1985 and from foreign 000 april 0 prices its account year a but in this mln home an states earlier and rise and revs vs 000 its 16 vs 000 a but 3 psbr oils several and shareholders and dividend vs 000 its all 4 vs 000 1 mln agreed largely april 0 are 2 states will billion total and against 000 pct dlrs\n",
      "3\n"
     ]
    }
   ],
   "source": [
    "num_classes = max(y_train) + 1\n",
    "print('# of Classes: {}'.format(num_classes))\n",
    "\n",
    "# of Training Samples: 8982\n",
    "# of Test Samples: 2246\n",
    "# of Classes: 46\n",
    "\n",
    "index_to_word = {}\n",
    "for key, value in word_index.items():\n",
    "    index_to_word[value] = key\n",
    "    \n",
    "print(' '.join([index_to_word[x] for x in x_train[0]]))\n",
    "print(y_train[0])"
   ]
  },
  {
   "cell_type": "code",
   "execution_count": 26,
   "metadata": {},
   "outputs": [
    {
     "data": {
      "text/plain": [
       "array([0., 0., 0., 1., 0., 0., 0., 0., 0., 0., 0., 0., 0., 0., 0., 0., 0.,\n",
       "       0., 0., 0., 0., 0., 0., 0., 0., 0., 0., 0., 0., 0., 0., 0., 0., 0.,\n",
       "       0., 0., 0., 0., 0., 0., 0., 0., 0., 0., 0., 0.], dtype=float32)"
      ]
     },
     "metadata": {},
     "output_type": "display_data"
    },
    {
     "data": {
      "text/plain": [
       "array([0., 0., 0., 1., 0., 0., 0., 0., 0., 0., 0., 0., 0., 0., 0., 0., 0.,\n",
       "       0., 0., 0., 0., 0., 0., 0., 0., 0., 0., 0., 0., 0., 0., 0., 0., 0.,\n",
       "       0., 0., 0., 0., 0., 0., 0., 0., 0., 0., 0., 0.], dtype=float32)"
      ]
     },
     "metadata": {},
     "output_type": "display_data"
    }
   ],
   "source": [
    "from keras.utils.np_utils import to_categorical\n",
    "\n",
    "y_train = to_categorical(y_train, num_classes=num_classes)\n",
    "y_test = to_categorical(y_test, num_classes=num_classes)\n",
    "\n",
    "display(y_train[0, :])\n",
    "display(y_test[0, :])"
   ]
  },
  {
   "cell_type": "code",
   "execution_count": 17,
   "metadata": {},
   "outputs": [
    {
     "data": {
      "text/plain": [
       "array([0., 1., 1., ..., 0., 0., 0.])"
      ]
     },
     "metadata": {},
     "output_type": "display_data"
    },
    {
     "data": {
      "text/plain": [
       "3"
      ]
     },
     "metadata": {},
     "output_type": "display_data"
    },
    {
     "data": {
      "text/plain": [
       "array([0., 1., 1., ..., 0., 0., 0.])"
      ]
     },
     "metadata": {},
     "output_type": "display_data"
    },
    {
     "data": {
      "text/plain": [
       "3"
      ]
     },
     "metadata": {},
     "output_type": "display_data"
    }
   ],
   "source": [
    "x_train_oh = np.zeros((len(x_train), 10000))\n",
    "for i in np.arange(x_train.shape[0]):\n",
    "    x_train_oh[i, np.array(x_train[i])] = 1.\n",
    "    \n",
    "display(x_train_oh[0])\n",
    "display(y_train[0])\n",
    "\n",
    "x_test_oh = np.zeros((len(x_test), 10000))\n",
    "for i in np.arange(x_test.shape[0]):\n",
    "    x_test_oh[i, np.array(x_test[i])] = 1.\n",
    "    \n",
    "display(x_test_oh[0])\n",
    "display(y_test[0])"
   ]
  },
  {
   "cell_type": "code",
   "execution_count": 48,
   "metadata": {},
   "outputs": [
    {
     "name": "stdout",
     "output_type": "stream",
     "text": [
      "Train on 8083 samples, validate on 899 samples\n",
      "Epoch 1/10\n",
      "8083/8083 [==============================] - 1s 124us/step - loss: 2.7535 - acc: 0.5315 - val_loss: 1.9084 - val_acc: 0.6741\n",
      "Epoch 2/10\n",
      "8083/8083 [==============================] - 1s 66us/step - loss: 1.3438 - acc: 0.7387 - val_loss: 1.3171 - val_acc: 0.7353\n",
      "Epoch 3/10\n",
      "8083/8083 [==============================] - 1s 66us/step - loss: 0.8812 - acc: 0.8248 - val_loss: 1.1119 - val_acc: 0.7742\n",
      "Epoch 4/10\n",
      "8083/8083 [==============================] - 1s 66us/step - loss: 0.6477 - acc: 0.8767 - val_loss: 1.0169 - val_acc: 0.7942\n",
      "Epoch 5/10\n",
      "8083/8083 [==============================] - 1s 66us/step - loss: 0.4941 - acc: 0.9071 - val_loss: 0.9629 - val_acc: 0.7964\n",
      "Epoch 6/10\n",
      "8083/8083 [==============================] - 1s 66us/step - loss: 0.3891 - acc: 0.9228 - val_loss: 0.9247 - val_acc: 0.8042\n",
      "Epoch 7/10\n",
      "8083/8083 [==============================] - 1s 66us/step - loss: 0.3116 - acc: 0.9378 - val_loss: 0.9037 - val_acc: 0.8042\n",
      "Epoch 8/10\n",
      "8083/8083 [==============================] - 1s 66us/step - loss: 0.2551 - acc: 0.9454 - val_loss: 0.9000 - val_acc: 0.8131\n",
      "Epoch 9/10\n",
      "8083/8083 [==============================] - 1s 66us/step - loss: 0.2157 - acc: 0.9501 - val_loss: 0.8996 - val_acc: 0.8154\n",
      "Epoch 10/10\n",
      "8083/8083 [==============================] - 1s 66us/step - loss: 0.1860 - acc: 0.9551 - val_loss: 0.9026 - val_acc: 0.8087\n",
      "2246/2246 [==============================] - 0s 41us/step\n",
      "Test loss: 0.8851360397899353\n",
      "Test accuracy: 0.7978628666827643\n"
     ]
    }
   ],
   "source": [
    "model = models.Sequential()\n",
    "model.add(layers.Dense(64, activation='relu', input_shape=(10000,)))\n",
    "# model.add(layers.Dropout(0.5))\n",
    "# model.add(layers.Dense(64, activation='relu'))\n",
    "# model.add(layers.Dropout(0.5))\n",
    "model.add(layers.Dense(num_classes, activation='softmax'))\n",
    "model.compile(loss='categorical_crossentropy', optimizer='adam', metrics=['accuracy'])\n",
    "\n",
    "history = model.fit(x_train_oh, y_train, batch_size=256, epochs=10, verbose=1, validation_split=0.1)\n",
    "score = model.evaluate(x_test_oh, y_test, batch_size=256, verbose=1)\n",
    "print('Test loss:', score[0])\n",
    "print('Test accuracy:', score[1])"
   ]
  },
  {
   "cell_type": "code",
   "execution_count": 39,
   "metadata": {},
   "outputs": [
    {
     "data": {
      "image/png": "[encoded data removed]",
      "text/plain": [
       "<Figure size 1080x720 with 1 Axes>"
      ]
     },
     "metadata": {
      "needs_background": "light"
     },
     "output_type": "display_data"
    }
   ],
   "source": [
    "from matplotlib import pyplot as plt\n",
    "\n",
    "plt.figure(figsize=(15, 10))\n",
    "plt.plot(history.history['val_acc'])\n",
    "plt.plot(history.history['acc'])\n",
    "plt.legend(['val_acc', 'acc'])\n",
    "plt.grid()\n",
    "plt.show()"
   ]
  }
 ],
 "metadata": {
  "kernelspec": {
   "display_name": "Python 3",
   "language": "python",
   "name": "python3"
  },
  "language_info": {
   "codemirror_mode": {
    "name": "ipython",
    "version": 3
   },
   "file_extension": ".py",
   "mimetype": "text/x-python",
   "name": "python",
   "nbconvert_exporter": "python",
   "pygments_lexer": "ipython3",
   "version": "3.6.8"
  }
 },
 "nbformat": 4,
 "nbformat_minor": 4
}
